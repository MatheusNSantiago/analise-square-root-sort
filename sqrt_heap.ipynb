{
 "cells": [
  {
   "cell_type": "code",
   "execution_count": 84,
   "metadata": {},
   "outputs": [],
   "source": [
    "\n",
    "from sys import maxsize\n",
    "import numpy as np\n",
    "import numba as nb\n",
    "from numba.experimental import jitclass\n",
    "from math import floor, sqrt, ceil\n",
    "from time import time\n",
    "from heapq import heapify"
   ]
  },
  {
   "cell_type": "code",
   "execution_count": 88,
   "metadata": {},
   "outputs": [
    {
     "ename": "TypingError",
     "evalue": "Failed in nopython mode pipeline (step: nopython frontend)\nNameError: name 'insertion_sort' is not defined",
     "output_type": "error",
     "traceback": [
      "\u001b[0;31m---------------------------------------------------------------------------\u001b[0m",
      "\u001b[0;31mTypingError\u001b[0m                               Traceback (most recent call last)",
      "\u001b[1;32m/home/matheus/Documents/Faculdade/analise-de-algoritmos/sqrt_heap.ipynb Cell 5'\u001b[0m in \u001b[0;36m<cell line: 59>\u001b[0;34m()\u001b[0m\n\u001b[1;32m     <a href='vscode-notebook-cell:/home/matheus/Documents/Faculdade/analise-de-algoritmos/sqrt_heap.ipynb#ch0000001?line=60'>61</a>\u001b[0m array \u001b[39m=\u001b[39m np\u001b[39m.\u001b[39mrandom\u001b[39m.\u001b[39mrandint(\u001b[39m1000\u001b[39m, size\u001b[39m=\u001b[39m\u001b[39m10\u001b[39m\u001b[39m*\u001b[39m\u001b[39m*\u001b[39m\u001b[39m1\u001b[39m)\n\u001b[1;32m     <a href='vscode-notebook-cell:/home/matheus/Documents/Faculdade/analise-de-algoritmos/sqrt_heap.ipynb#ch0000001?line=62'>63</a>\u001b[0m start \u001b[39m=\u001b[39m time()\n\u001b[0;32m---> <a href='vscode-notebook-cell:/home/matheus/Documents/Faculdade/analise-de-algoritmos/sqrt_heap.ipynb#ch0000001?line=63'>64</a>\u001b[0m res \u001b[39m=\u001b[39m sqrt_sort_quadratico(array)\n\u001b[1;32m     <a href='vscode-notebook-cell:/home/matheus/Documents/Faculdade/analise-de-algoritmos/sqrt_heap.ipynb#ch0000001?line=65'>66</a>\u001b[0m total \u001b[39m=\u001b[39m time() \u001b[39m-\u001b[39m start\n\u001b[1;32m     <a href='vscode-notebook-cell:/home/matheus/Documents/Faculdade/analise-de-algoritmos/sqrt_heap.ipynb#ch0000001?line=66'>67</a>\u001b[0m runtimes\u001b[39m.\u001b[39mappend(total)\n",
      "File \u001b[0;32m~/Documents/Faculdade/analise-de-algoritmos/.venv/lib/python3.10/site-packages/numba/core/dispatcher.py:468\u001b[0m, in \u001b[0;36m_DispatcherBase._compile_for_args\u001b[0;34m(self, *args, **kws)\u001b[0m\n\u001b[1;32m    <a href='file:///home/matheus/Documents/Faculdade/analise-de-algoritmos/.venv/lib/python3.10/site-packages/numba/core/dispatcher.py?line=463'>464</a>\u001b[0m         msg \u001b[39m=\u001b[39m (\u001b[39mf\u001b[39m\u001b[39m\"\u001b[39m\u001b[39m{\u001b[39;00m\u001b[39mstr\u001b[39m(e)\u001b[39m.\u001b[39mrstrip()\u001b[39m}\u001b[39;00m\u001b[39m \u001b[39m\u001b[39m\\n\u001b[39;00m\u001b[39m\\n\u001b[39;00m\u001b[39mThis error may have been caused \u001b[39m\u001b[39m\"\u001b[39m\n\u001b[1;32m    <a href='file:///home/matheus/Documents/Faculdade/analise-de-algoritmos/.venv/lib/python3.10/site-packages/numba/core/dispatcher.py?line=464'>465</a>\u001b[0m                \u001b[39mf\u001b[39m\u001b[39m\"\u001b[39m\u001b[39mby the following argument(s):\u001b[39m\u001b[39m\\n\u001b[39;00m\u001b[39m{\u001b[39;00margs_str\u001b[39m}\u001b[39;00m\u001b[39m\\n\u001b[39;00m\u001b[39m\"\u001b[39m)\n\u001b[1;32m    <a href='file:///home/matheus/Documents/Faculdade/analise-de-algoritmos/.venv/lib/python3.10/site-packages/numba/core/dispatcher.py?line=465'>466</a>\u001b[0m         e\u001b[39m.\u001b[39mpatch_message(msg)\n\u001b[0;32m--> <a href='file:///home/matheus/Documents/Faculdade/analise-de-algoritmos/.venv/lib/python3.10/site-packages/numba/core/dispatcher.py?line=467'>468</a>\u001b[0m     error_rewrite(e, \u001b[39m'\u001b[39;49m\u001b[39mtyping\u001b[39;49m\u001b[39m'\u001b[39;49m)\n\u001b[1;32m    <a href='file:///home/matheus/Documents/Faculdade/analise-de-algoritmos/.venv/lib/python3.10/site-packages/numba/core/dispatcher.py?line=468'>469</a>\u001b[0m \u001b[39mexcept\u001b[39;00m errors\u001b[39m.\u001b[39mUnsupportedError \u001b[39mas\u001b[39;00m e:\n\u001b[1;32m    <a href='file:///home/matheus/Documents/Faculdade/analise-de-algoritmos/.venv/lib/python3.10/site-packages/numba/core/dispatcher.py?line=469'>470</a>\u001b[0m     \u001b[39m# Something unsupported is present in the user code, add help info\u001b[39;00m\n\u001b[1;32m    <a href='file:///home/matheus/Documents/Faculdade/analise-de-algoritmos/.venv/lib/python3.10/site-packages/numba/core/dispatcher.py?line=470'>471</a>\u001b[0m     error_rewrite(e, \u001b[39m'\u001b[39m\u001b[39munsupported_error\u001b[39m\u001b[39m'\u001b[39m)\n",
      "File \u001b[0;32m~/Documents/Faculdade/analise-de-algoritmos/.venv/lib/python3.10/site-packages/numba/core/dispatcher.py:409\u001b[0m, in \u001b[0;36m_DispatcherBase._compile_for_args.<locals>.error_rewrite\u001b[0;34m(e, issue_type)\u001b[0m\n\u001b[1;32m    <a href='file:///home/matheus/Documents/Faculdade/analise-de-algoritmos/.venv/lib/python3.10/site-packages/numba/core/dispatcher.py?line=406'>407</a>\u001b[0m     \u001b[39mraise\u001b[39;00m e\n\u001b[1;32m    <a href='file:///home/matheus/Documents/Faculdade/analise-de-algoritmos/.venv/lib/python3.10/site-packages/numba/core/dispatcher.py?line=407'>408</a>\u001b[0m \u001b[39melse\u001b[39;00m:\n\u001b[0;32m--> <a href='file:///home/matheus/Documents/Faculdade/analise-de-algoritmos/.venv/lib/python3.10/site-packages/numba/core/dispatcher.py?line=408'>409</a>\u001b[0m     \u001b[39mraise\u001b[39;00m e\u001b[39m.\u001b[39mwith_traceback(\u001b[39mNone\u001b[39;00m)\n",
      "\u001b[0;31mTypingError\u001b[0m: Failed in nopython mode pipeline (step: nopython frontend)\nNameError: name 'insertion_sort' is not defined"
     ]
    }
   ],
   "source": [
    "\n",
    "VAZIO = -maxsize\n",
    "\n",
    "\n",
    "@nb.njit\n",
    "def particiona_array(array):\n",
    "    n = array.size\n",
    "\n",
    "    max_len_parte = floor(sqrt(n))\n",
    "    n_partes = ceil(n / max_len_parte)\n",
    "    resto = n % max_len_parte\n",
    "\n",
    "    partes = []\n",
    "    for i in range(n_partes):\n",
    "        start = i * max_len_parte\n",
    "        nxt = (i + 1) * max_len_parte\n",
    "\n",
    "        if (i != n_partes - 1) or (resto == 0):\n",
    "            p = Parte(array[start:nxt], max_len_parte)\n",
    "        else:\n",
    "            filler = [VAZIO] * (max_len_parte - resto)\n",
    "            final_array = np.append(array[start:n], filler)\n",
    "\n",
    "            p = Parte(final_array, resto)\n",
    "\n",
    "        partes.append(p)\n",
    "\n",
    "    return partes\n",
    "\n",
    "\n",
    "@nb.njit\n",
    "def sqrt_sort_quadratico(V: np.ndarray):\n",
    "    n = V.size\n",
    "\n",
    "    partes = [insertion_sort(parte) for parte in particiona_array(V)]\n",
    "    # partes = [bubble_sort(parte) for parte in particiona_array(V)]\n",
    "\n",
    "    solucao = np.zeros(n, dtype=np.int64)\n",
    "    aux_max_list = np.full(len(partes), VAZIO)\n",
    "\n",
    "    for iteracao in range(n):\n",
    "        # Preenche o vetor aux_max_list com os maiores valores de cada parte disponível\n",
    "        for i, parte in enumerate(partes):\n",
    "            if (aux_max_list[i] == VAZIO) and (parte.size > 0):\n",
    "                aux_max_list[i] = parte.V[parte.size - 1]\n",
    "\n",
    "        # Pega o index do maior elemento de \"aux_max_list\"\n",
    "        max_index = np.argmax(aux_max_list)\n",
    "\n",
    "        solucao[iteracao] = aux_max_list[max_index]\n",
    "\n",
    "        aux_max_list[max_index] = VAZIO  # indica q a vaga está disponível de novo\n",
    "        partes[max_index].size -= 1  # remove o elemento da parte\n",
    "\n",
    "    return solucao[::-1]\n",
    "\n",
    "\n",
    "runtimes = []\n",
    "# for size in sizes:\n",
    "for _ in range(1):\n",
    "    np.random.seed(124)  # Seed the random number generator\n",
    "    array = np.random.randint(1000, size=10**1)\n",
    "\n",
    "    start = time()\n",
    "    res = sqrt_sort_quadratico(array)\n",
    "\n",
    "    total = time() - start\n",
    "    runtimes.append(total)\n",
    "\n",
    "    print(\"{:.3f}\".format(total))\n",
    "\n",
    "print(\"\\nMean:\", round(np.mean(runtimes), 3))\n"
   ]
  }
 ],
 "metadata": {
  "interpreter": {
   "hash": "ac4c3f72434872da604d1c2cfdd4dfaabc2e5b3ee78436d0537d032634c94d10"
  },
  "kernelspec": {
   "display_name": "Python 3.10.4 ('.venv': venv)",
   "language": "python",
   "name": "python3"
  },
  "language_info": {
   "codemirror_mode": {
    "name": "ipython",
    "version": 3
   },
   "file_extension": ".py",
   "mimetype": "text/x-python",
   "name": "python",
   "nbconvert_exporter": "python",
   "pygments_lexer": "ipython3",
   "version": "3.10.4"
  },
  "orig_nbformat": 4
 },
 "nbformat": 4,
 "nbformat_minor": 2
}
