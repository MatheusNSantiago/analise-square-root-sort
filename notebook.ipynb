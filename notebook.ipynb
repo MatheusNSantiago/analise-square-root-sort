{
 "cells": [
  {
   "cell_type": "code",
   "execution_count": null,
   "metadata": {},
   "outputs": [],
   "source": [
    "import perfplot\n",
    "import numpy as np\n",
    "import matplotlib.pyplot as plt\n",
    "import scipy.interpolate\n",
    "\n",
    "plt.style.use('seaborn')"
   ]
  },
  {
   "cell_type": "code",
   "execution_count": null,
   "metadata": {},
   "outputs": [],
   "source": [
    "from time import  time\n",
    "import numpy as np\n",
    "import perfplot\n",
    "from heap import sqrt_sort_heap\n",
    "from quadratico import sqrt_sort_quadratico\n",
    "from common import progress_bar\n",
    "\n",
    "sizes = [10**4, 10**5, 10**6, 10**7]\n",
    "repeticoes = 30  # Quantas vezes ele vai testar cada tamanho\n",
    "\n",
    "\n",
    "res_quadratico = []\n",
    "res_heap = []\n",
    "metodos = [sqrt_sort_quadratico, sqrt_sort_heap]\n",
    "\n",
    "\n",
    "for i, metodo in enumerate(metodos):\n",
    "\n",
    "    print(\"Pelo Método Quadratico\" if i == 0 else \"Usando Heap\")\n",
    "    for size in sizes:\n",
    "        tempos = []\n",
    "        for _ in progress_bar(repeticoes, size):\n",
    "            start = time()\n",
    "\n",
    "            np.random.seed(124)  \n",
    "            array = np.random.randint(1000, size=size)\n",
    "\n",
    "            metodo(array)\n",
    "\n",
    "            end = time()\n",
    "            tempos.append(end - start)\n",
    "\n",
    "        media = round(np.mean(tempos), 3)\n",
    "        if i == 0:\n",
    "            res_quadratico.append(media)\n",
    "        else:\n",
    "            res_heap.append(media)\n",
    "\n"
   ]
  },
  {
   "cell_type": "code",
   "execution_count": null,
   "metadata": {},
   "outputs": [],
   "source": [
    "fig, (ax1, ax2) = plt.subplots(2, figsize=(9, 9), tight_layout=True)\n",
    "\n",
    "ax1.plot(sizes, res_quadratico, label=\"Método Quadrático\")\n",
    "\n",
    "ax1.plot(sizes, res_heap, label=\"Heap\")\n",
    "\n",
    "ax1.legend()\n",
    "ax1.set_ylabel(\"Tempo (s)\", labelpad=5)\n",
    "ax1.set_xlabel(\"Tamanho da entrada\", labelpad=0)\n",
    "ax1.set_xscale(\"log\")\n",
    "\n",
    "x = np.linspace(sizes[0], sizes[-1], 150)\n",
    "y = np.interp(x, sizes, res_quadratico)\n",
    "ax2.plot(x, y, label=\"Interpolação Método Quadrático \")\n",
    "\n",
    "x = np.linspace(sizes[0], sizes[-1], 150)\n",
    "y = np.interp(x, sizes, res_heap)\n",
    "\n",
    "ax2.plot(x, y, label=\"Heap Interpolação\")\n",
    "ax2.legend()\n",
    "ax2.set_ylabel(\"Tempo (s)\", labelpad=5)\n",
    "ax2.set_xlabel(\"Tamanho da entrada\", labelpad=0)\n",
    "ax2.set_xscale(\"log\")\n",
    "\n",
    "fig.subplots_adjust(bottom=0.85)\n",
    "\n",
    "\n",
    "plt.show()\n"
   ]
  }
 ],
 "metadata": {
  "interpreter": {
   "hash": "ac4c3f72434872da604d1c2cfdd4dfaabc2e5b3ee78436d0537d032634c94d10"
  },
  "kernelspec": {
   "display_name": "Python 3.10.4 ('.venv': venv)",
   "language": "python",
   "name": "python3"
  },
  "language_info": {
   "codemirror_mode": {
    "name": "ipython",
    "version": 3
   },
   "file_extension": ".py",
   "mimetype": "text/x-python",
   "name": "python",
   "nbconvert_exporter": "python",
   "pygments_lexer": "ipython3",
   "version": "3.10.4"
  },
  "orig_nbformat": 4
 },
 "nbformat": 4,
 "nbformat_minor": 2
}
