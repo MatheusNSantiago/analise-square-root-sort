{
 "cells": [
  {
   "cell_type": "code",
   "execution_count": null,
   "metadata": {},
   "outputs": [],
   "source": [
    "import numpy as np\n",
    "from time import time\n",
    "import numpy as np\n",
    "from heap import sqrt_sort_heap\n",
    "from quadratico import sqrt_sort_quadratico\n",
    "from utils import rprint, progress_bar\n",
    "from common import plot_array\n",
    "\n",
    "%load_ext rich"
   ]
  },
  {
   "cell_type": "code",
   "execution_count": null,
   "metadata": {},
   "outputs": [],
   "source": [
    "sizes = [\n",
    "    10**4,\n",
    "    10**5,\n",
    "    10**6,\n",
    "    10**7,\n",
    "]\n",
    "repeticoes = 30  # Quantas vezes ele vai testar cada tamanho\n",
    "\n",
    "resultados = {\n",
    "    \"quadratico\": {size: [] for size in sizes},\n",
    "    \"heap\": {size: [] for size in sizes},\n",
    "}\n",
    "\n",
    "for i, metodo in enumerate([sqrt_sort_quadratico, sqrt_sort_heap]):\n",
    "    rprint(\"Usando Heap\" if i else \"Pelo Método Quadratico\", style=\"bold underline\")\n",
    "    for size in sizes:\n",
    "        tempos = []\n",
    "        for _ in progress_bar(repeticoes, size):\n",
    "            start = time()\n",
    "\n",
    "            array = np.random.randint(1000, size=size)\n",
    "            metodo(array)\n",
    "\n",
    "            end = time()\n",
    "            tempos.append(end - start)\n",
    "\n",
    "        if i == 0:\n",
    "            resultados[\"quadratico\"][size] = tempos\n",
    "        else:\n",
    "            resultados[\"heap\"][size] = tempos\n",
    "\n",
    "plot_array(resultados, sizes)\n"
   ]
  }
 ],
 "metadata": {
  "interpreter": {
   "hash": "ac4c3f72434872da604d1c2cfdd4dfaabc2e5b3ee78436d0537d032634c94d10"
  },
  "kernelspec": {
   "display_name": "Python 3.10.4 ('.venv': venv)",
   "language": "python",
   "name": "python3"
  },
  "language_info": {
   "codemirror_mode": {
    "name": "ipython",
    "version": 3
   },
   "file_extension": ".py",
   "mimetype": "text/x-python",
   "name": "python",
   "nbconvert_exporter": "python",
   "pygments_lexer": "ipython3",
   "version": "3.10.5"
  },
  "orig_nbformat": 4
 },
 "nbformat": 4,
 "nbformat_minor": 2
}
