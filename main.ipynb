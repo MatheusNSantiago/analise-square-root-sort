{
 "cells": [
  {
   "cell_type": "code",
   "execution_count": 2,
   "metadata": {},
   "outputs": [],
   "source": [
    "import matplotlib.pyplot as plt\n",
    "import numpy as np\n",
    "from math import sqrt, floor"
   ]
  },
  {
   "cell_type": "markdown",
   "metadata": {},
   "source": [
    "### Método quadrático de ordenação"
   ]
  },
  {
   "cell_type": "code",
   "execution_count": 4,
   "metadata": {},
   "outputs": [],
   "source": [
    "def bubble_sort(V):\n",
    "    # Já que vamos comparar v[i] com v[i+1], no pior caso,\n",
    "    for iteração in range(len(V) - 1):\n",
    "        ocorreu_troca = False\n",
    "\n",
    "        for i in range((len(V) - 1) - iteração):\n",
    "            if V[i] > V[i + 1]:  # Troca os items\n",
    "                V[i], V[i+ 1] = V[i+1], V[i]\n",
    "                ocorreu_troca = True\n",
    "\n",
    "        if not ocorreu_troca:\n",
    "            # Se não ocorreu troca, quer dizer que ele já estava ordenado\n",
    "            return V\n",
    "    return V"
   ]
  },
  {
   "cell_type": "markdown",
   "metadata": {},
   "source": [
    "### Heap"
   ]
  },
  {
   "cell_type": "code",
   "execution_count": 5,
   "metadata": {},
   "outputs": [],
   "source": [
    "def make_max_heap(V):\n",
    "    \"\"\"Transforma o array em um max-heap\"\"\"\n",
    "\n",
    "    ultimo_index_que_nao_é_folha = (len(V) // 2) - 1  # pq as folhas já são heaps\n",
    "    for i in reversed(range(ultimo_index_que_nao_é_folha)):\n",
    "        heapify_down(V, i)\n",
    "\n",
    "\n",
    "def heapify_down(V, i):\n",
    "    # Mapeia o V para uma binary tree\n",
    "    maior = i\n",
    "    filho_esq = (i * 2) + 1\n",
    "    filho_dir = (i * 2) + 2\n",
    "\n",
    "    if (filho_esq < len(V)) and (V[filho_esq] > V[maior]):\n",
    "        maior = filho_esq\n",
    "\n",
    "    if (filho_dir < len(V)) and (V[filho_dir] > V[maior]):\n",
    "        maior = filho_dir\n",
    "\n",
    "    if maior != i:\n",
    "        V[i], V[maior] = V[maior], V[i]  # troca\n",
    "        heapify_down(V, maior)\n",
    "\n",
    "\n",
    "def heapify_up(V, i):\n",
    "    pai = (i - 1) // 2\n",
    "\n",
    "    if (pai >= 0) and (V[i] > V[pai]):\n",
    "        V[pai], V[i] = V[i], V[pai]  # troca\n",
    "        heapify_up(V, pai)\n",
    "\n",
    "\n",
    "def print_tree(V, i=0, p=0):\n",
    "    esquerda = (i * 2) + 1\n",
    "    direita = (i * 2) + 2\n",
    "\n",
    "    if p == 0:\n",
    "        print(V[i])\n",
    "    if esquerda < len(V):\n",
    "        print(\" \" * p * 2, \"─\", V[esquerda])\n",
    "        print_tree(V, esquerda, p + 1)\n",
    "    if direita < len(V):\n",
    "        print(\" \" * p * 2, \"─\", V[direita])\n",
    "        print_tree(V, direita, p + 1)\n",
    "\n",
    "\n",
    "def insert_heap(V, e):\n",
    "    V.append(e)\n",
    "    index = len(V) - 1\n",
    "    \n",
    "    heapify_up(V, index)\n",
    "\n",
    "\n",
    "def remove_heap(V):\n",
    "    maior = V[0]\n",
    "    ultimo = V.pop() \n",
    "\n",
    "    if len(V) != 0:\n",
    "        V[0] = ultimo\n",
    "        heapify_down(V, 0)\n",
    "\n",
    "    return maior\n",
    "\n",
    "\n",
    "def heap_sort(V):\n",
    "    make_max_heap(V)\n",
    "\n",
    "    v_ordenado = []\n",
    "    for _ in range(len(V)):\n",
    "        maior = remove_heap(V)\n",
    "        v_ordenado.append(maior)\n",
    "        \n",
    "    return v_ordenado"
   ]
  },
  {
   "cell_type": "markdown",
   "metadata": {},
   "source": [
    "### Square Root Sort"
   ]
  },
  {
   "cell_type": "code",
   "execution_count": null,
   "metadata": {},
   "outputs": [],
   "source": [
    "\n",
    "\n",
    "def particionar_array(V):\n",
    "    n = len(V)\n",
    "    len_parte = floor(sqrt(n))\n",
    "\n",
    "    partes = []\n",
    "    for i in range(n):\n",
    "        if (i % len_parte) == 0:\n",
    "            partes.append([])\n",
    "\n",
    "        partes[-1].append(V[i])\n",
    "\n",
    "    return partes\n",
    "\n",
    "\n",
    "def max_partes(partes):\n",
    "    max_value = -np.Infinity\n",
    "    max_index_parte = 0\n",
    "\n",
    "    for index_da_parte, parte in enumerate(partes):\n",
    "        if (len(parte) != 0) and (parte[-1] > max_value):\n",
    "            max_value = parte[-1]\n",
    "            max_index_parte = index_da_parte\n",
    "\n",
    "    return partes[max_index_parte].pop()\n",
    "\n",
    "\n",
    "def sqrt_sort(V, funcao_de_ordenacao) -> list:\n",
    "    partes = particionar_array(V)\n",
    "    solucao = []\n",
    "\n",
    "    # ordena cada parte\n",
    "    for i in range(len(partes)):\n",
    "        partes[i] = funcao_de_ordenacao(partes[i])\n",
    "\n",
    "    for _ in range(len(V)):\n",
    "        maior_valor_das_partes = max_partes(partes)\n",
    "        solucao.append(maior_valor_das_partes)\n",
    "\n",
    "    return solucao[::-1]"
   ]
  },
  {
   "cell_type": "markdown",
   "metadata": {},
   "source": [
    "### Execução"
   ]
  },
  {
   "cell_type": "code",
   "execution_count": 6,
   "metadata": {},
   "outputs": [],
   "source": [
    "from time import time\n",
    "\n",
    "np.random.seed(123)\n",
    "V = np.random.randint(1000, size=10 ** 7)\n",
    "\n",
    "\n",
    "times = []\n",
    "\n",
    "for _ in range(5):\n",
    "    start = time()\n",
    "    sqrt_sort(V, bubble_sort)\n",
    "    # sqrt_sort(V, heap_sort)\n",
    "    end = time()\n",
    "    total_time = end - start\n",
    "\n",
    "    times.append(total_time)\n",
    "\n",
    "print(times)\n",
    "print(sum(times)/len(times))\n",
    "\n",
    "\n",
    "# bubble (+) => 7.58 (5)\n",
    "# bubble (-) => 7.23 (5)"
   ]
  }
 ],
 "metadata": {
  "interpreter": {
   "hash": "ac4c3f72434872da604d1c2cfdd4dfaabc2e5b3ee78436d0537d032634c94d10"
  },
  "kernelspec": {
   "display_name": "Python 3.10.4 ('.venv': venv)",
   "language": "python",
   "name": "python3"
  },
  "language_info": {
   "codemirror_mode": {
    "name": "ipython",
    "version": 3
   },
   "file_extension": ".py",
   "mimetype": "text/x-python",
   "name": "python",
   "nbconvert_exporter": "python",
   "pygments_lexer": "ipython3",
   "version": "3.10.4"
  },
  "orig_nbformat": 4
 },
 "nbformat": 4,
 "nbformat_minor": 2
}
